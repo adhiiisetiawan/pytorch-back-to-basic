{
 "cells": [
  {
   "attachments": {},
   "cell_type": "markdown",
   "metadata": {},
   "source": [
    "# Intro Time Series Data"
   ]
  },
  {
   "attachments": {},
   "cell_type": "markdown",
   "metadata": {},
   "source": [
    "Going back to the wine dataset, we could have had a “year” column that allowed us\n",
    "to look at how wine quality evolved year after year. Unfortunately, we don’t have such\n",
    "data at hand, but we’re working hard on manually collecting the data samples, bottle\n",
    "by bottle. (Stuff for our second edition.) In the meantime, we’ll switch to another\n",
    "interesting dataset: data from a Washington, D.C., bike-sharing system reporting the\n",
    "hourly count of rental bikes in 2011–2012 in the Capital Bikeshare system, along with\n",
    "weather and seasonal information (available here: http://mng.bz/jgOx). Our goal\n",
    "will be to take a flat, 2D dataset and transform it into a 3D one, as shown in figure below"
   ]
  },
  {
   "cell_type": "code",
   "execution_count": null,
   "metadata": {},
   "outputs": [],
   "source": []
  }
 ],
 "metadata": {
  "kernelspec": {
   "display_name": "Python 3",
   "language": "python",
   "name": "python3"
  },
  "language_info": {
   "name": "python",
   "version": "3.10.4 (main, Nov 29 2022, 20:00:25) [GCC 9.4.0]"
  },
  "orig_nbformat": 4,
  "vscode": {
   "interpreter": {
    "hash": "3ad933181bd8a04b432d3370b9dc3b0662ad032c4dfaa4e4f1596c548f763858"
   }
  }
 },
 "nbformat": 4,
 "nbformat_minor": 2
}
