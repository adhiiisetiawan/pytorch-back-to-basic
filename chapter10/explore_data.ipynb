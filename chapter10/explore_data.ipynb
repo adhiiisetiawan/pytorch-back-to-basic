{
 "cells": [
  {
   "cell_type": "code",
   "execution_count": 1,
   "metadata": {},
   "outputs": [],
   "source": [
    "%matplotlib inline\n",
    "import numpy as np"
   ]
  },
  {
   "cell_type": "code",
   "execution_count": 2,
   "metadata": {},
   "outputs": [
    {
     "ename": "ImportError",
     "evalue": "cannot import name 'BytesType' from 'diskcache.core' (/home/adhi/Documents/Data1/Document/Project/pytorch-back-to-basic/.env-dl/lib/python3.10/site-packages/diskcache/core.py)",
     "output_type": "error",
     "traceback": [
      "\u001b[0;31m---------------------------------------------------------------------------\u001b[0m",
      "\u001b[0;31mImportError\u001b[0m                               Traceback (most recent call last)",
      "Cell \u001b[0;32mIn[2], line 1\u001b[0m\n\u001b[0;32m----> 1\u001b[0m \u001b[39mfrom\u001b[39;00m \u001b[39mdsets\u001b[39;00m \u001b[39mimport\u001b[39;00m getCandidateInfoList, getCt, LunaDataset\n\u001b[1;32m      2\u001b[0m candidateInfo_list \u001b[39m=\u001b[39m getCandidateInfoList(requireOnDisk_bool\u001b[39m=\u001b[39m\u001b[39mTrue\u001b[39;00m)\n\u001b[1;32m      3\u001b[0m positiveInfo_list \u001b[39m=\u001b[39m [x \u001b[39mfor\u001b[39;00m x \u001b[39min\u001b[39;00m candidateInfo_list \u001b[39mif\u001b[39;00m x[\u001b[39m0\u001b[39m]]\n",
      "File \u001b[0;32m~/Documents/Data1/Document/Project/pytorch-back-to-basic/chapter10/dsets.py:14\u001b[0m\n\u001b[1;32m     12\u001b[0m \u001b[39mfrom\u001b[39;00m \u001b[39mtorch\u001b[39;00m\u001b[39m.\u001b[39;00m\u001b[39mutils\u001b[39;00m\u001b[39m.\u001b[39;00m\u001b[39mdata\u001b[39;00m \u001b[39mimport\u001b[39;00m Dataset\n\u001b[1;32m     13\u001b[0m \u001b[39mfrom\u001b[39;00m \u001b[39mutil\u001b[39;00m \u001b[39mimport\u001b[39;00m XyzTuple, xyz2irc\n\u001b[0;32m---> 14\u001b[0m \u001b[39mfrom\u001b[39;00m \u001b[39mdisk\u001b[39;00m \u001b[39mimport\u001b[39;00m getCache\n\u001b[1;32m     17\u001b[0m raw_cache \u001b[39m=\u001b[39m getCache(\u001b[39m'\u001b[39m\u001b[39mchapter10_raw\u001b[39m\u001b[39m'\u001b[39m)\n\u001b[1;32m     19\u001b[0m CandidateInfoTuple \u001b[39m=\u001b[39m namedtuple(\n\u001b[1;32m     20\u001b[0m     \u001b[39m'\u001b[39m\u001b[39mCandidateInfoTuple\u001b[39m\u001b[39m'\u001b[39m,\n\u001b[1;32m     21\u001b[0m     \u001b[39m'\u001b[39m\u001b[39misNodule_bool, diameter_mm, series_uid, center_xyz\u001b[39m\u001b[39m'\u001b[39m,\n\u001b[1;32m     22\u001b[0m )\n",
      "File \u001b[0;32m~/Documents/Data1/Document/Project/pytorch-back-to-basic/chapter10/disk.py:4\u001b[0m\n\u001b[1;32m      1\u001b[0m \u001b[39mimport\u001b[39;00m \u001b[39mgzip\u001b[39;00m\n\u001b[1;32m      3\u001b[0m \u001b[39mfrom\u001b[39;00m \u001b[39mdiskcache\u001b[39;00m \u001b[39mimport\u001b[39;00m FanoutCache, Disk\n\u001b[0;32m----> 4\u001b[0m \u001b[39mfrom\u001b[39;00m \u001b[39mdiskcache\u001b[39;00m\u001b[39m.\u001b[39;00m\u001b[39mcore\u001b[39;00m \u001b[39mimport\u001b[39;00m BytesType, MODE_BINARY, BytesIO\n\u001b[1;32m      7\u001b[0m \u001b[39mclass\u001b[39;00m \u001b[39mGzipDisk\u001b[39;00m(Disk):\n\u001b[1;32m      8\u001b[0m     \u001b[39mdef\u001b[39;00m \u001b[39mstore\u001b[39m(\u001b[39mself\u001b[39m, value, read, key\u001b[39m=\u001b[39m\u001b[39mNone\u001b[39;00m):\n",
      "\u001b[0;31mImportError\u001b[0m: cannot import name 'BytesType' from 'diskcache.core' (/home/adhi/Documents/Data1/Document/Project/pytorch-back-to-basic/.env-dl/lib/python3.10/site-packages/diskcache/core.py)"
     ]
    }
   ],
   "source": [
    "from dsets import getCandidateInfoList, getCt, LunaDataset\n",
    "candidateInfo_list = getCandidateInfoList(requireOnDisk_bool=True)\n",
    "positiveInfo_list = [x for x in candidateInfo_list if x[0]]\n",
    "diameter_list = [x[1] for x in positiveInfo_list]"
   ]
  },
  {
   "cell_type": "code",
   "execution_count": null,
   "metadata": {},
   "outputs": [],
   "source": []
  }
 ],
 "metadata": {
  "kernelspec": {
   "display_name": ".env-dl",
   "language": "python",
   "name": "python3"
  },
  "language_info": {
   "codemirror_mode": {
    "name": "ipython",
    "version": 3
   },
   "file_extension": ".py",
   "mimetype": "text/x-python",
   "name": "python",
   "nbconvert_exporter": "python",
   "pygments_lexer": "ipython3",
   "version": "3.10.6"
  },
  "orig_nbformat": 4,
  "vscode": {
   "interpreter": {
    "hash": "bcaec3e0058c4c30c0fa6b04f28783491ed4492b8c756eac1a94f223ee1e3282"
   }
  }
 },
 "nbformat": 4,
 "nbformat_minor": 2
}
