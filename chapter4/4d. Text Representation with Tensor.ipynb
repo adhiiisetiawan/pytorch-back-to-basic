{
 "cells": [
  {
   "attachments": {},
   "cell_type": "markdown",
   "metadata": {},
   "source": [
    "# Converting text into number"
   ]
  },
  {
   "attachments": {},
   "cell_type": "markdown",
   "metadata": {},
   "source": [
    "There are two particularly intuitive levels at which networks operate on text: at the\n",
    "character level, by processing one character at a time, and at the word level, where\n",
    "individual words are the finest-grained entities to be seen by the network. The technique with which we encode text information into tensor form is the same whether we operate at the character level or the word level. And it’s not magic, either. We stumbled upon it earlier: one-hot encoding."
   ]
  },
  {
   "attachments": {},
   "cell_type": "markdown",
   "metadata": {},
   "source": [
    "Let’s start with a character-level example. First, let’s get some text to process. An\n",
    "amazing resource here is Project Gutenberg (www.gutenberg.org), a volunteer effort\n",
    "to digitize and archive cultural work and make it available for free in open formats,\n",
    "including plain text files. If we’re aiming at larger-scale corpora, the Wikipedia corpus\n",
    "stands out: it’s the complete collection of Wikipedia articles, containing 1.9 billion\n",
    "words and more than 4.4 million articles. Several other corpora can be found at the\n",
    "English Corpora website (www.english-corpora.org).\n",
    "Let’s load Jane Austen’s Pride and Prejudice from the Project Gutenberg website:\n",
    "www.gutenberg.org/files/1342/1342-0.txt."
   ]
  },
  {
   "cell_type": "code",
   "execution_count": 1,
   "metadata": {},
   "outputs": [],
   "source": [
    "with open(\"../data/p1ch4/jane-austen/1342-0.txt\", encoding=\"utf-8\") as f:\n",
    "    text = f.read()"
   ]
  },
  {
   "cell_type": "code",
   "execution_count": null,
   "metadata": {},
   "outputs": [],
   "source": []
  }
 ],
 "metadata": {
  "kernelspec": {
   "display_name": "Python 3",
   "language": "python",
   "name": "python3"
  },
  "language_info": {
   "codemirror_mode": {
    "name": "ipython",
    "version": 3
   },
   "file_extension": ".py",
   "mimetype": "text/x-python",
   "name": "python",
   "nbconvert_exporter": "python",
   "pygments_lexer": "ipython3",
   "version": "3.10.4"
  },
  "orig_nbformat": 4,
  "vscode": {
   "interpreter": {
    "hash": "3ad933181bd8a04b432d3370b9dc3b0662ad032c4dfaa4e4f1596c548f763858"
   }
  }
 },
 "nbformat": 4,
 "nbformat_minor": 2
}
