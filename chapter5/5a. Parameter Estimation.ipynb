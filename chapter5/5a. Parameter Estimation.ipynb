{
 "cells": [
  {
   "cell_type": "code",
   "execution_count": 1,
   "metadata": {},
   "outputs": [],
   "source": [
    "import torch\n",
    "\n",
    "t_c = [0.5, 14.0, 15.0, 28.0, 11.0, 8.0, 3.0, -4.0, 6.0, 13.0, 21.0]\n",
    "t_u = [35.7, 55.9, 58.2, 81.9, 56.3, 48.9, 33.9, 21.8, 48.4, 60.4, 68.4]\n",
    "t_c = torch.tensor(t_c)\n",
    "t_u = torch.tensor(t_u)"
   ]
  },
  {
   "attachments": {},
   "cell_type": "markdown",
   "metadata": {},
   "source": [
    "Here, the t_c values are temperatures in Celsius, and the t_u values are our unknown\n",
    "units. We can expect noise in both measurements, coming from the devices themselves and from our approximate readings. For convenience, we’ve already put the\n",
    "data into tensors; we’ll use it in a minute."
   ]
  },
  {
   "cell_type": "code",
   "execution_count": 2,
   "metadata": {},
   "outputs": [],
   "source": [
    "def model(t_u, w, b):\n",
    "    return w * t_u + b"
   ]
  },
  {
   "attachments": {},
   "cell_type": "markdown",
   "metadata": {},
   "source": [
    "We’re expecting t_u, w, and b to be the input tensor, weight parameter, and bias\n",
    "parameter, respectively. In our model, the parameters will be PyTorch scalars (aka zero-dimensional tensors), and the product operation will use broadcasting to yield\n",
    "the returned tensors."
   ]
  },
  {
   "cell_type": "code",
   "execution_count": 3,
   "metadata": {},
   "outputs": [],
   "source": [
    "def loss_fn(t_p, t_c):\n",
    "    squared_diffs = (t_p - t_c) ** 2\n",
    "    return squared_diffs.mean()"
   ]
  },
  {
   "cell_type": "code",
   "execution_count": 4,
   "metadata": {},
   "outputs": [
    {
     "data": {
      "text/plain": [
       "tensor([35.7000, 55.9000, 58.2000, 81.9000, 56.3000, 48.9000, 33.9000, 21.8000,\n",
       "        48.4000, 60.4000, 68.4000])"
      ]
     },
     "execution_count": 4,
     "metadata": {},
     "output_type": "execute_result"
    }
   ],
   "source": [
    "w = torch.ones(())\n",
    "b = torch.zeros(())\n",
    "\n",
    "t_p = model(t_u, w, b)\n",
    "t_p"
   ]
  },
  {
   "cell_type": "code",
   "execution_count": 5,
   "metadata": {},
   "outputs": [
    {
     "data": {
      "text/plain": [
       "tensor(1763.8848)"
      ]
     },
     "execution_count": 5,
     "metadata": {},
     "output_type": "execute_result"
    }
   ],
   "source": [
    "loss = loss_fn(t_p, t_c)\n",
    "loss"
   ]
  },
  {
   "attachments": {},
   "cell_type": "markdown",
   "metadata": {},
   "source": [
    "We implemented the model and the loss in this section. We’ve finally reached the\n",
    "meat of the example: how do we estimate w and b such that the loss reaches a minimum? We’ll first work things out by hand and then learn how to use PyTorch’s superpowers to solve the same problem in a more general, off-the-shelf way."
   ]
  },
  {
   "cell_type": "code",
   "execution_count": 6,
   "metadata": {},
   "outputs": [],
   "source": [
    "delta = 0.1\n",
    "loss_rate_of_change = \\\n",
    "    (loss_fn(model(t_u, w, b + delta), t_c) - \n",
    "    loss_fn(model(t_u, w, b - delta), t_c)) / (2.0 * delta)"
   ]
  },
  {
   "cell_type": "code",
   "execution_count": 7,
   "metadata": {},
   "outputs": [],
   "source": [
    "learning_rate = 1e-2\n",
    "w = w - learning_rate * loss_rate_of_change"
   ]
  },
  {
   "cell_type": "code",
   "execution_count": 8,
   "metadata": {},
   "outputs": [],
   "source": [
    "loss_rate_of_change_b = \\\n",
    "    (loss_fn(model(t_u, w, b + delta), t_c) -\n",
    "    loss_fn(model(t_u, w, b - delta), t_c)) / (2.0 * delta)\n",
    "b = b - learning_rate * loss_rate_of_change_b"
   ]
  },
  {
   "attachments": {},
   "cell_type": "markdown",
   "metadata": {},
   "source": [
    "# Computing Derivative"
   ]
  },
  {
   "attachments": {},
   "cell_type": "markdown",
   "metadata": {},
   "source": [
    "In order to compute the derivative of the loss with respect to a parameter, we can\n",
    "apply the chain rule and compute the derivative of the loss with respect to its input\n",
    "(which is the output of the model), times the derivative of the model with respect to\n",
    "the parameter:"
   ]
  },
  {
   "attachments": {},
   "cell_type": "markdown",
   "metadata": {},
   "source": [
    "Recall that our model is a linear function, and our loss is a sum of squares. Let’s figure\n",
    "out the expressions for the derivatives. Recalling the expression for the loss:"
   ]
  },
  {
   "cell_type": "code",
   "execution_count": 9,
   "metadata": {},
   "outputs": [],
   "source": [
    "def loss_fn(t_p, t_c):\n",
    "    squared_diffs = (t_p - t_c) ** 2\n",
    "    return squared_diffs.mean()"
   ]
  },
  {
   "cell_type": "code",
   "execution_count": 10,
   "metadata": {},
   "outputs": [],
   "source": [
    "def dloss_fn(t_p, t_c):\n",
    "    dsq_diffs = 2 * (t_p - t_c) / t_p.size(0)\n",
    "    return dsq_diffs"
   ]
  },
  {
   "attachments": {},
   "cell_type": "markdown",
   "metadata": {},
   "source": [
    "# Applying the derivatives to the model"
   ]
  },
  {
   "cell_type": "code",
   "execution_count": 11,
   "metadata": {},
   "outputs": [],
   "source": [
    "def model(t_u, w, b):\n",
    "    return w * t_u + b\n",
    "\n",
    "def dmodel_dw(t_u, w, b):\n",
    "    return t_u\n",
    "\n",
    "def dmodel_db(t_u, w, b):\n",
    "    return 1.0"
   ]
  },
  {
   "attachments": {},
   "cell_type": "markdown",
   "metadata": {},
   "source": [
    "# Defining Gradient Function"
   ]
  },
  {
   "cell_type": "code",
   "execution_count": 12,
   "metadata": {},
   "outputs": [],
   "source": [
    "def grad_fn(t_u, t_c, t_p, w, b):\n",
    "    dloss_dtp = dloss_fn(t_p, t_c)\n",
    "    dloss_dw = dloss_dtp * dmodel_dw(t_u, w, b)\n",
    "    dloss_db = dloss_dtp * dmodel_db(t_u, w, b)\n",
    "    return torch.stack([dloss_dw.sum(), dloss_db.sum()])"
   ]
  },
  {
   "attachments": {},
   "cell_type": "markdown",
   "metadata": {},
   "source": [
    "The same idea expressed in mathematical notation is shown in figure bellow. Again,\n",
    "we’re averaging (that is, summing and dividing by a constant) over all the data points\n",
    "to get a single scalar quantity for each partial derivative of the loss.\n",
    "\n",
    "![Derivative](../images/derivative.png \"Derivative\")"
   ]
  },
  {
   "attachments": {},
   "cell_type": "markdown",
   "metadata": {},
   "source": [
    "# The Training Loop"
   ]
  },
  {
   "cell_type": "code",
   "execution_count": 13,
   "metadata": {},
   "outputs": [],
   "source": [
    "def training_loop(n_epochs, learning_rate, params, t_u, t_c):\n",
    "    for epoch in range(1, n_epochs + 1):\n",
    "        w, b = params\n",
    "\n",
    "        t_p = model(t_u, w, b) # forward pass\n",
    "        loss = loss_fn(t_p, t_c) \n",
    "        grad = grad_fn(t_u, t_c, t_p, w, b) # backward\n",
    "\n",
    "        params = params - learning_rate * grad\n",
    "\n",
    "        print('Epoch %d, Loss %f' % (epoch, float(loss)))\n",
    "    \n",
    "    return params"
   ]
  },
  {
   "cell_type": "code",
   "execution_count": 16,
   "metadata": {},
   "outputs": [
    {
     "name": "stdout",
     "output_type": "stream",
     "text": [
      "Epoch 1, Loss 1763.884766\n",
      "Epoch 2, Loss 323.090515\n",
      "Epoch 3, Loss 78.929634\n",
      "Epoch 4, Loss 37.552845\n",
      "Epoch 5, Loss 30.540283\n",
      "Epoch 6, Loss 29.351154\n",
      "Epoch 7, Loss 29.148884\n",
      "Epoch 8, Loss 29.113848\n",
      "Epoch 9, Loss 29.107145\n",
      "Epoch 10, Loss 29.105247\n",
      "Epoch 11, Loss 29.104168\n",
      "Epoch 12, Loss 29.103222\n",
      "Epoch 13, Loss 29.102295\n",
      "Epoch 14, Loss 29.101379\n",
      "Epoch 15, Loss 29.100466\n",
      "Epoch 16, Loss 29.099548\n",
      "Epoch 17, Loss 29.098631\n",
      "Epoch 18, Loss 29.097717\n",
      "Epoch 19, Loss 29.096796\n",
      "Epoch 20, Loss 29.095881\n",
      "Epoch 21, Loss 29.094959\n",
      "Epoch 22, Loss 29.094049\n",
      "Epoch 23, Loss 29.093134\n",
      "Epoch 24, Loss 29.092216\n",
      "Epoch 25, Loss 29.091301\n",
      "Epoch 26, Loss 29.090385\n",
      "Epoch 27, Loss 29.089464\n",
      "Epoch 28, Loss 29.088551\n",
      "Epoch 29, Loss 29.087635\n",
      "Epoch 30, Loss 29.086714\n",
      "Epoch 31, Loss 29.085804\n",
      "Epoch 32, Loss 29.084888\n",
      "Epoch 33, Loss 29.083967\n",
      "Epoch 34, Loss 29.083057\n",
      "Epoch 35, Loss 29.082142\n",
      "Epoch 36, Loss 29.081221\n",
      "Epoch 37, Loss 29.080309\n",
      "Epoch 38, Loss 29.079390\n",
      "Epoch 39, Loss 29.078474\n",
      "Epoch 40, Loss 29.077562\n",
      "Epoch 41, Loss 29.076649\n",
      "Epoch 42, Loss 29.075731\n",
      "Epoch 43, Loss 29.074812\n",
      "Epoch 44, Loss 29.073895\n",
      "Epoch 45, Loss 29.072981\n",
      "Epoch 46, Loss 29.072069\n",
      "Epoch 47, Loss 29.071148\n",
      "Epoch 48, Loss 29.070234\n",
      "Epoch 49, Loss 29.069323\n",
      "Epoch 50, Loss 29.068401\n",
      "Epoch 51, Loss 29.067486\n",
      "Epoch 52, Loss 29.066566\n",
      "Epoch 53, Loss 29.065657\n",
      "Epoch 54, Loss 29.064741\n",
      "Epoch 55, Loss 29.063826\n",
      "Epoch 56, Loss 29.062910\n",
      "Epoch 57, Loss 29.061995\n",
      "Epoch 58, Loss 29.061079\n",
      "Epoch 59, Loss 29.060169\n",
      "Epoch 60, Loss 29.059248\n",
      "Epoch 61, Loss 29.058336\n",
      "Epoch 62, Loss 29.057415\n",
      "Epoch 63, Loss 29.056507\n",
      "Epoch 64, Loss 29.055586\n",
      "Epoch 65, Loss 29.054674\n",
      "Epoch 66, Loss 29.053761\n",
      "Epoch 67, Loss 29.052843\n",
      "Epoch 68, Loss 29.051929\n",
      "Epoch 69, Loss 29.051012\n",
      "Epoch 70, Loss 29.050098\n",
      "Epoch 71, Loss 29.049183\n",
      "Epoch 72, Loss 29.048273\n",
      "Epoch 73, Loss 29.047350\n",
      "Epoch 74, Loss 29.046442\n",
      "Epoch 75, Loss 29.045530\n",
      "Epoch 76, Loss 29.044611\n",
      "Epoch 77, Loss 29.043699\n",
      "Epoch 78, Loss 29.042784\n",
      "Epoch 79, Loss 29.041870\n",
      "Epoch 80, Loss 29.040955\n",
      "Epoch 81, Loss 29.040039\n",
      "Epoch 82, Loss 29.039122\n",
      "Epoch 83, Loss 29.038210\n",
      "Epoch 84, Loss 29.037294\n",
      "Epoch 85, Loss 29.036379\n",
      "Epoch 86, Loss 29.035463\n",
      "Epoch 87, Loss 29.034554\n",
      "Epoch 88, Loss 29.033636\n",
      "Epoch 89, Loss 29.032722\n",
      "Epoch 90, Loss 29.031811\n",
      "Epoch 91, Loss 29.030895\n",
      "Epoch 92, Loss 29.029976\n",
      "Epoch 93, Loss 29.029066\n",
      "Epoch 94, Loss 29.028151\n",
      "Epoch 95, Loss 29.027235\n",
      "Epoch 96, Loss 29.026323\n",
      "Epoch 97, Loss 29.025410\n",
      "Epoch 98, Loss 29.024492\n",
      "Epoch 99, Loss 29.023582\n",
      "Epoch 100, Loss 29.022667\n"
     ]
    },
    {
     "data": {
      "text/plain": [
       "tensor([ 0.2327, -0.0438])"
      ]
     },
     "execution_count": 16,
     "metadata": {},
     "output_type": "execute_result"
    }
   ],
   "source": [
    "training_loop(\n",
    "    n_epochs=100,\n",
    "    learning_rate=1e-4,\n",
    "    params=torch.tensor([1.0, 0.0]),\n",
    "    t_u=t_u,\n",
    "    t_c=t_c)"
   ]
  },
  {
   "cell_type": "code",
   "execution_count": null,
   "metadata": {},
   "outputs": [],
   "source": []
  }
 ],
 "metadata": {
  "kernelspec": {
   "display_name": "Python 3",
   "language": "python",
   "name": "python3"
  },
  "language_info": {
   "codemirror_mode": {
    "name": "ipython",
    "version": 3
   },
   "file_extension": ".py",
   "mimetype": "text/x-python",
   "name": "python",
   "nbconvert_exporter": "python",
   "pygments_lexer": "ipython3",
   "version": "3.10.4"
  },
  "orig_nbformat": 4,
  "vscode": {
   "interpreter": {
    "hash": "3ad933181bd8a04b432d3370b9dc3b0662ad032c4dfaa4e4f1596c548f763858"
   }
  }
 },
 "nbformat": 4,
 "nbformat_minor": 2
}
