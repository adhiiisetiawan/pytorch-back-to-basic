{
 "cells": [
  {
   "attachments": {},
   "cell_type": "markdown",
   "metadata": {},
   "source": [
    "# Datset of Tiny Image"
   ]
  },
  {
   "attachments": {},
   "cell_type": "markdown",
   "metadata": {},
   "source": [
    "There is nothing like an intuitive understanding of a subject, and there is nothing to\n",
    "achieve that like working on simple data. One of the most basic datasets for image\n",
    "recognition is the handwritten digit-recognition dataset known as MNIST. Here\n",
    "we will use another dataset that is similarly simple and a bit more fun. It’s called\n",
    "CIFAR-10, and, like its sibling CIFAR-100, it has been a computer vision classic for\n",
    "a decade.\n",
    "\n",
    "CIFAR-10 consists of 60,000 tiny 32 × 32 color (RGB) images, labeled with an inte-\n",
    "ger corresponding to 1 of 10 classes: airplane (0), automobile (1), bird (2), cat (3),\n",
    "deer (4), dog (5), frog (6), horse (7), ship (8), and truck (9).1 Nowadays, CIFAR-10 is\n",
    "considered too simple for developing or validating new research, but it serves our\n",
    "learning purposes just fine. We will use the torchvision module to automatically\n",
    "download the dataset and load it as a collection of PyTorch tensors. Figure bellow gives us\n",
    "a taste of CIFAR-10."
   ]
  },
  {
   "cell_type": "code",
   "execution_count": null,
   "metadata": {},
   "outputs": [],
   "source": []
  }
 ],
 "metadata": {
  "language_info": {
   "name": "python"
  },
  "orig_nbformat": 4
 },
 "nbformat": 4,
 "nbformat_minor": 2
}
